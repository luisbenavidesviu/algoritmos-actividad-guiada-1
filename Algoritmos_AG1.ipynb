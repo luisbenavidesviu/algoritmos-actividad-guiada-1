{
  "cells": [
    {
      "cell_type": "markdown",
      "metadata": {
        "id": "kQn6fbhgtH9I"
      },
      "source": [
        "# Algoritmos - Actividad Guiada 1\n",
        "\n",
        "Nombre: Benavides Acevedo, Luis Enrique Rafael <br>\n",
        "URL: https://colab.research.google.com/drive/1RAQ09pE8iMPtnTLpP07-hoDLkEruUzi7\n",
        "\n",
        "https://github.com/luisbenavidesviu/algoritmos-actividad-guiada-1\n"
      ]
    },
    {
      "cell_type": "markdown",
      "metadata": {
        "id": "_t62Ge7ZuKnC"
      },
      "source": [
        "## Torres de Hanoi (3 torres) con Divide y vencerás"
      ]
    },
    {
      "cell_type": "code",
      "execution_count": 11,
      "metadata": {
        "colab": {
          "base_uri": "https://localhost:8080/"
        },
        "id": "i32G0CUQvauE",
        "outputId": "c3398cec-661d-46a5-b9db-0a0ad168f64a"
      },
      "outputs": [
        {
          "name": "stdout",
          "output_type": "stream",
          "text": [
            "Mover disco 1 de torre1 hasta la torre3\n",
            "Mover disco 2 de torre1 hasta la torre2\n",
            "Mover disco 1 de torre3 hasta la torre2\n",
            "Mover disco 3 de torre1 hasta la torre3\n",
            "Mover disco 1 de torre2 hasta la torre1\n",
            "Mover disco 2 de torre2 hasta la torre3\n",
            "Mover disco 1 de torre1 hasta la torre3\n"
          ]
        }
      ],
      "source": [
        "def hanoi(n, source, aux, to):\n",
        "  if n == 1 :\n",
        "    print(f\"Mover disco 1 de {source} hasta la {to}\")\n",
        "\n",
        "  else:\n",
        "    hanoi(n-1, source, to, aux)\n",
        "    print(f\"Mover disco {n} de {source} hasta la {to}\")\n",
        "    hanoi(n-1, aux, source, to)\n",
        "\n",
        "hanoi(3, \"torre1\", \"torre2\", \"torre3\")"
      ]
    },
    {
      "cell_type": "markdown",
      "metadata": {},
      "source": [
        "## Sucesión de Fibonacci (recursivo con memoria)"
      ]
    },
    {
      "cell_type": "code",
      "execution_count": 16,
      "metadata": {
        "colab": {
          "base_uri": "https://localhost:8080/"
        },
        "id": "74qZZAekiNYR",
        "outputId": "acc17268-7f87-4de4-ae5a-4fc6ce09d385"
      },
      "outputs": [
        {
          "data": {
            "text/plain": [
              "5"
            ]
          },
          "execution_count": 16,
          "metadata": {},
          "output_type": "execute_result"
        }
      ],
      "source": [
        "def fibonacci(n, memo = {0: 0, 1: 1}):\n",
        "    if n in memo:\n",
        "        return memo[n]\n",
        "    else:\n",
        "        memo[n] = fibonacci(n-1, memo) + fibonacci(n-2, memo)\n",
        "        return memo[n]\n",
        "\n",
        "fibonacci(5)"
      ]
    },
    {
      "cell_type": "markdown",
      "metadata": {},
      "source": [
        "## Sucesión de Fibonacci (iterativo)"
      ]
    },
    {
      "cell_type": "code",
      "execution_count": 15,
      "metadata": {},
      "outputs": [
        {
          "data": {
            "text/plain": [
              "5"
            ]
          },
          "execution_count": 15,
          "metadata": {},
          "output_type": "execute_result"
        }
      ],
      "source": [
        "def fibonacci(n):\n",
        "    if n == 0:\n",
        "        return 0\n",
        "    a, b = 0, 1\n",
        "    for _ in range(2, n + 1):\n",
        "        a, b = b, a + b\n",
        "    return b\n",
        "\n",
        "fibonacci(5)"
      ]
    },
    {
      "cell_type": "markdown",
      "metadata": {
        "id": "RgT5XJsZ429L"
      },
      "source": [
        "## Devolución de cambio por técnica voraz"
      ]
    },
    {
      "cell_type": "code",
      "execution_count": 34,
      "metadata": {
        "colab": {
          "base_uri": "https://localhost:8080/"
        },
        "id": "uJtftBLU4-ap",
        "outputId": "b52f7a2c-771b-4c2e-81ab-c4c3ea01318d"
      },
      "outputs": [
        {
          "name": "stdout",
          "output_type": "stream",
          "text": [
            "\n",
            "\n",
            "[2, 1, 0, 3]\n",
            "Para dar 63 centavos, se usan:\n",
            "2 moneda(s) de 25 centavos\n",
            "1 moneda(s) de 10 centavos\n",
            "0 moneda(s) de 5 centavos\n",
            "3 moneda(s) de 1 centavos\n",
            "\n",
            "\n",
            "[2, 6]\n",
            "Para dar 120 centavos, se usan:\n",
            "2 moneda(s) de 50 centavos\n",
            "6 moneda(s) de 3 centavos\n",
            "No se pudo dar el cambio exacto con las monedas disponibles.\n"
          ]
        }
      ],
      "source": [
        "def change_money(amount, money_list):\n",
        "  res = [0]*len(money_list)   #res = [0,0,0,0,..]\n",
        "  acc = 0\n",
        "\n",
        "  for i,value in enumerate(sorted(money_list, reverse=True)):\n",
        "    quantity =  (amount-acc)//value\n",
        "    res[i] = quantity\n",
        "    acc = acc + quantity*value\n",
        "\n",
        "  print(\"\\n\")\n",
        "  print(res)\n",
        "  print(f\"Para dar {amount} centavos, se usan:\")\n",
        "  for i,quantity in enumerate(res):\n",
        "      print(f\"{quantity} moneda(s) de {money_list[i]} centavos\")\n",
        "  if acc != amount:\n",
        "    print(\"No se pudo dar el cambio exacto con las monedas disponibles.\")\n",
        "\n",
        "\n",
        "# caso exitoso\n",
        "change_money(63,[25,10,5,1])\n",
        "\n",
        "# caso fallido\n",
        "change_money(120,[50,3])"
      ]
    },
    {
      "cell_type": "markdown",
      "metadata": {
        "id": "g8M9GTvy_Fa3"
      },
      "source": [
        "## N-Reinas por técnica de backtracking\n"
      ]
    },
    {
      "cell_type": "code",
      "execution_count": 6,
      "metadata": {},
      "outputs": [
        {
          "name": "stdout",
          "output_type": "stream",
          "text": [
            ". Q . .\n",
            ". . . Q\n",
            "Q . . .\n",
            ". . Q .\n",
            "\n",
            ". . Q .\n",
            "Q . . .\n",
            ". . . Q\n",
            ". Q . .\n",
            "\n"
          ]
        }
      ],
      "source": [
        "def print_table(table):\n",
        "    for fila in table:\n",
        "        print(\" \".join(\"Q\" if x else \".\" for x in fila))\n",
        "    print()\n",
        "\n",
        "# Verifica esta columna arriba\n",
        "def validate_columns(table, row, col):\n",
        "    for i in range(row):\n",
        "        if table[i][col]:\n",
        "            return False\n",
        "\n",
        "def is_safe(table, row, col):\n",
        "    if not validate_columns(table, row, col):\n",
        "        return False\n",
        "\n",
        "    # Verifica la diagonal superior izquierda\n",
        "    i, j = row - 1, col - 1\n",
        "    while i >= 0 and j >= 0:\n",
        "        if table[i][j]:\n",
        "            return False\n",
        "        i -= 1\n",
        "        j -= 1\n",
        "\n",
        "    # Verifica la diagonal superior derecha\n",
        "    i, j = row - 1, col + 1\n",
        "    while i >= 0 and j < N:\n",
        "        if table[i][j]:\n",
        "            return False\n",
        "        i -= 1\n",
        "        j += 1\n",
        "\n",
        "    return True\n",
        "\n",
        "def queens(quantity, table, row):\n",
        "    if row == quantity:\n",
        "        print_table(table)\n",
        "        return True\n",
        "\n",
        "    solved = False\n",
        "    for col in range(quantity):\n",
        "        if is_safe(table, row, col):\n",
        "            table[row][col] = 1\n",
        "            solved = queens(quantity, table, row + 1) or solved\n",
        "            table[row][col] = 0 # Deshace la colocación de la reina\n",
        "    return solved\n",
        "\n",
        "def n_queens(quantity):\n",
        "    table = [[0] * quantity for _ in range(quantity)]\n",
        "    if not queens(quantity, table, 0):\n",
        "        print(\"No hay solución\")\n",
        "\n",
        "n_queens(4)"
      ]
    },
    {
      "cell_type": "markdown",
      "metadata": {
        "id": "p1VZhNzjUfiy"
      },
      "source": [
        "## Viaje por el rio. Programación dinámica"
      ]
    },
    {
      "cell_type": "code",
      "execution_count": 18,
      "metadata": {
        "colab": {
          "base_uri": "https://localhost:8080/",
          "height": 351
        },
        "id": "qoqU1XciUdRn",
        "outputId": "541c88e8-e686-4c32-c7e6-812759702496"
      },
      "outputs": [
        {
          "name": "stdout",
          "output_type": "stream",
          "text": [
            "PRECIOS\n",
            "[0, 5, 4, 3, 8, 8, 11]\n",
            "[9999, 0, 999, 2, 3, 8, 7]\n",
            "[9999, 9999, 0, 1, 6, 4, 7]\n",
            "[9999, 9999, 9999, 0, 5, 6, 9]\n",
            "[9999, 9999, 9999, 9999, 0, 999, 4]\n",
            "[9999, 9999, 9999, 9999, 9999, 0, 3]\n",
            "[9999, 9999, 9999, 9999, 9999, 9999, 9999]\n",
            "\n",
            "RUTA\n",
            "[0, 0, 0, 0, 1, 2, 5]\n",
            "['', 1, 1, 1, 1, 3, 4]\n",
            "['', '', 2, 2, 3, 2, 5]\n",
            "['', '', '', 3, 3, 3, 3]\n",
            "['', '', '', '', 4, 4, 4]\n",
            "['', '', '', '', '', 5, 5]\n",
            "['', '', '', '', '', '', '']\n",
            "\n",
            "La ruta es:\n",
            "Ir a :0\n"
          ]
        },
        {
          "data": {
            "text/plain": [
              "',0,2,5'"
            ]
          },
          "execution_count": 18,
          "metadata": {},
          "output_type": "execute_result"
        }
      ],
      "source": [
        "TARIFAS = [\n",
        "[0,5,4,3,999,999,999],\n",
        "[999,0,999,2,3,999,11],\n",
        "[999,999, 0,1,999,4,10],\n",
        "[999,999,999, 0,5,6,9],\n",
        "[999,999, 999,999,0,999,4],\n",
        "[999,999, 999,999,999,0,3],\n",
        "[999,999,999,999,999,999,0]\n",
        "]\n",
        "\n",
        "\n",
        "\n",
        "################################################################\n",
        "def pricing(TARIFAS):\n",
        "################################################################\n",
        "  #Total de Nodos\n",
        "  N = len(TARIFAS[0])\n",
        "\n",
        "  #Inicialización de la tabla de precios\n",
        "  PRECIOS = [ [9999]*N for i in range(N)]\n",
        "  RUTA = [ [\"\"]*N for i in range(N)]\n",
        "  \n",
        "  for i in range(0,N-1):\n",
        "    RUTA[i][i] = i             #Para ir de i a i se \"pasa por i\"\n",
        "    PRECIOS[i][i] = 0          #Para ir de i a i se se paga 0\n",
        "    for j in range(i+1, N):\n",
        "      MIN = TARIFAS[i][j]\n",
        "      RUTA[i][j] = i\n",
        "\n",
        "      for k in range(i, j):\n",
        "        if PRECIOS[i][k] + TARIFAS[k][j] < MIN:\n",
        "            MIN = min(MIN, PRECIOS[i][k] + TARIFAS[k][j] )\n",
        "            RUTA[i][j] = k          #Anota que para ir de i a j hay que pasar por k\n",
        "        PRECIOS[i][j] = MIN\n",
        "\n",
        "  return PRECIOS,RUTA\n",
        "################################################################\n",
        "\n",
        "\n",
        "PRECIOS,RUTA = pricing(TARIFAS)\n",
        "\n",
        "print(\"PRECIOS\")\n",
        "for i in range(len(TARIFAS)):\n",
        "  print(PRECIOS[i])\n",
        "\n",
        "print(\"\\nRUTA\")\n",
        "for i in range(len(TARIFAS)):\n",
        "  print(RUTA[i])\n",
        "\n",
        "#Determinar la ruta con Recursividad\n",
        "def calcular_ruta(RUTA, desde, hasta):\n",
        "  if desde == hasta:\n",
        "    print(\"Ir a :\" + str(desde))\n",
        "    return \"\"\n",
        "  else:\n",
        "    return str(calcular_ruta( RUTA, desde, RUTA[desde][hasta])) +  \\\n",
        "                ',' + \\\n",
        "                str(RUTA[desde][hasta] \\\n",
        "              )\n",
        "\n",
        "print(\"\\nLa ruta es:\")\n",
        "calcular_ruta(RUTA, 0,6)"
      ]
    }
  ],
  "metadata": {
    "colab": {
      "provenance": []
    },
    "kernelspec": {
      "display_name": "env",
      "language": "python",
      "name": "python3"
    },
    "language_info": {
      "codemirror_mode": {
        "name": "ipython",
        "version": 3
      },
      "file_extension": ".py",
      "mimetype": "text/x-python",
      "name": "python",
      "nbconvert_exporter": "python",
      "pygments_lexer": "ipython3",
      "version": "3.13.3"
    }
  },
  "nbformat": 4,
  "nbformat_minor": 0
}
